{
 "cells": [
  {
   "cell_type": "markdown",
   "metadata": {},
   "source": [
    "## Import Libraries"
   ]
  },
  {
   "cell_type": "code",
   "execution_count": 1,
   "metadata": {},
   "outputs": [
    {
     "name": "stderr",
     "output_type": "stream",
     "text": [
      "/Users/rafael/miniconda3/envs/tide/lib/python3.10/site-packages/statsforecast/core.py:25: TqdmWarning: IProgress not found. Please update jupyter and ipywidgets. See https://ipywidgets.readthedocs.io/en/stable/user_install.html\n",
      "  from tqdm.autonotebook import tqdm\n"
     ]
    }
   ],
   "source": [
    "import pandas as pd\n",
    "import plotly.express as px\n",
    "import numpy as np\n",
    "from darts import TimeSeries\n",
    "from darts.models import TiDEModel\n",
    "from darts.dataprocessing.transformers import Scaler\n",
    "from darts.utils.timeseries_generation import datetime_attribute_timeseries\n",
    "from darts.utils.likelihood_models import QuantileRegression\n",
    "from darts.dataprocessing.transformers import StaticCovariatesTransformer"
   ]
  },
  {
   "cell_type": "markdown",
   "metadata": {},
   "source": [
    "## Global Variables"
   ]
  },
  {
   "cell_type": "code",
   "execution_count": 77,
   "metadata": {},
   "outputs": [],
   "source": [
    "TIME_COL = \"Date\"\n",
    "TARGET = \"Weekly_Sales\"\n",
    "STATIC_COV = [\"Store\", \"Dept\"]\n",
    "FREQ = \"W-FRI\"\n",
    "SCALER = Scaler()\n",
    "TRANSFORMER = StaticCovariatesTransformer()"
   ]
  },
  {
   "cell_type": "markdown",
   "metadata": {},
   "source": [
    "## Read and Transform data into Darts Format"
   ]
  },
  {
   "cell_type": "code",
   "execution_count": 95,
   "metadata": {},
   "outputs": [],
   "source": [
    "# read train and test datasets and transform train dataset\n",
    "train = pd.read_csv('data/train.csv')\n",
    "train[\"Date\"] = pd.to_datetime(train[\"Date\"])\n",
    "train[TARGET] = np.where(train[TARGET] < 0, 0, train[TARGET])\n",
    "train_darts = TimeSeries.from_group_dataframe(df=train, group_cols=STATIC_COV, time_col=TIME_COL, value_cols=TARGET, freq=FREQ, fill_missing_dates=True, fillna_value=0)\n",
    "\n",
    "# read test dataset and determin Forecast Horizon\n",
    "test = pd.read_csv('data/test.csv')\n",
    "test[\"Date\"] = pd.to_datetime(test[\"Date\"])\n",
    "FORECAST_HORIZON = len(test['Date'].unique())"
   ]
  },
  {
   "cell_type": "markdown",
   "metadata": {},
   "source": [
    "## Create Dynamic Covariates"
   ]
  },
  {
   "cell_type": "code",
   "execution_count": 96,
   "metadata": {},
   "outputs": [],
   "source": [
    "# we get the holiday data that we have in both train and test dataset\n",
    "holidays_df = pd.concat([train[[\"Date\", \"IsHoliday\"]], test[[\"Date\", \"IsHoliday\"]]]).drop_duplicates()\n",
    "# convert bool to numeric\n",
    "holidays_df[\"IsHoliday\"] = holidays_df[\"IsHoliday\"]*1\n"
   ]
  },
  {
   "cell_type": "code",
   "execution_count": 97,
   "metadata": {},
   "outputs": [],
   "source": [
    "# create dynamic covariates for each serie in the training darts\n",
    "dynamic_covariates = []\n",
    "for serie in train_darts:\n",
    "    # add the month and week as a covariate\n",
    "    covariate = datetime_attribute_timeseries(\n",
    "        serie,\n",
    "        attribute=\"month\",\n",
    "        one_hot=True,\n",
    "        cyclic=False,\n",
    "        add_length=FORECAST_HORIZON,\n",
    "    )\n",
    "    covariate = covariate.stack(\n",
    "        datetime_attribute_timeseries(\n",
    "            serie,\n",
    "            attribute=\"week\",\n",
    "            one_hot=True,\n",
    "            cyclic=False,\n",
    "            add_length=FORECAST_HORIZON,\n",
    "        )\n",
    "    )\n",
    "    # create holidays with dates for training and test\n",
    "    holidays_serie = pd.merge(pd.DataFrame(covariate.time_index).rename(columns={'time':'Date'}), holidays_df, on='Date', how='left')\n",
    "    covariate = covariate.stack(\n",
    "                TimeSeries.from_dataframe(holidays_serie, time_col=\"Date\", value_cols=\"IsHoliday\", freq=FREQ)\n",
    "            )\n",
    "    dynamic_covariates.append(covariate)"
   ]
  },
  {
   "cell_type": "markdown",
   "metadata": {},
   "source": [
    "## Transform Data for TiDE"
   ]
  },
  {
   "cell_type": "code",
   "execution_count": 98,
   "metadata": {},
   "outputs": [],
   "source": [
    "# scale covariates\n",
    "dynamic_covariates_transformed = SCALER.fit_transform(dynamic_covariates)\n",
    "\n",
    "# scale data\n",
    "data_transformed = SCALER.fit_transform(train_darts)\n",
    "\n",
    "# transform static covariates\n",
    "data_transformed = TRANSFORMER.fit_transform(data_transformed)"
   ]
  },
  {
   "cell_type": "markdown",
   "metadata": {},
   "source": [
    "## TiDE"
   ]
  },
  {
   "cell_type": "code",
   "execution_count": 99,
   "metadata": {},
   "outputs": [
    {
     "name": "stderr",
     "output_type": "stream",
     "text": [
      "GPU available: False, used: False\n",
      "TPU available: False, using: 0 TPU cores\n",
      "IPU available: False, using: 0 IPUs\n",
      "HPU available: False, using: 0 HPUs\n",
      "`Trainer.fit` stopped: `max_epochs=5` reached.\n",
      "GPU available: False, used: False\n",
      "TPU available: False, using: 0 TPU cores\n",
      "IPU available: False, using: 0 IPUs\n",
      "HPU available: False, using: 0 HPUs\n"
     ]
    },
    {
     "name": "stdout",
     "output_type": "stream",
     "text": [
      "Predicting DataLoader 0: 100%|██████████| 188/188 [00:28<00:00,  6.69it/s]\n"
     ]
    }
   ],
   "source": [
    "TiDE_params = {\n",
    "    \"input_chunk_length\": 4, # number of weeks to lookback\n",
    "    \"output_chunk_length\": FORECAST_HORIZON,\n",
    "    \"num_encoder_layers\": 1,\n",
    "    \"num_decoder_layers\": 1,\n",
    "    \"decoder_output_dim\": 1,\n",
    "    \"hidden_size\": 15,\n",
    "    \"temporal_width_past\": 4,\n",
    "    \"temporal_width_future\": 4,\n",
    "    \"temporal_decoder_hidden\": 26,\n",
    "    \"dropout\": 0.1,\n",
    "    \"batch_size\": 16,\n",
    "    \"n_epochs\": 5,\n",
    "    \"likelihood\": QuantileRegression(quantiles=[0.25, 0.5, 0.75]),\n",
    "    \"random_state\": 42,\n",
    "    \"use_static_covariates\": True,\n",
    "    \"optimizer_kwargs\": {\"lr\": 1e-3},\n",
    "    \"use_reversible_instance_norm\": False,\n",
    "}\n",
    "\n",
    "model = TiDEModel(**TiDE_params)\n",
    "model.fit(data_transformed, future_covariates=dynamic_covariates_transformed, verbose=False)\n",
    "pred = SCALER.inverse_transform(model.predict(n=FORECAST_HORIZON, series=data_transformed, num_samples=50, future_covariates=dynamic_covariates_transformed))"
   ]
  },
  {
   "cell_type": "code",
   "execution_count": null,
   "metadata": {},
   "outputs": [],
   "source": [
    "# let's check one example\n",
    "pred_df = pred[0].quantile_df(0.5).reset_index().rename(columns={'Weekly_Sales_0.5':'forecast'})\n",
    "pred_df['Store'] = TRANSFORMER.inverse_transform(pred[0]).static_covariates['Store'][0]\n",
    "pred_df['Dept'] = TRANSFORMER.inverse_transform(pred[0]).static_covariates['Store'][0]\n",
    "pred_df = pd.concat([train[(train['Store'] == 1) & (train['Dept'] == 1)], pred_df])"
   ]
  },
  {
   "cell_type": "code",
   "execution_count": 5,
   "metadata": {},
   "outputs": [
    {
     "data": {
      "application/vnd.plotly.v1+json": {
       "config": {
        "plotlyServerURL": "https://plot.ly"
       },
       "data": [
        {
         "hovertemplate": "variable=Weekly_Sales<br>Date=%{x|%B %d, %Y}<br>value=%{y}<extra></extra>",
         "legendgroup": "Weekly_Sales",
         "line": {
          "color": "#636efa",
          "dash": "solid"
         },
         "marker": {
          "symbol": "circle"
         },
         "mode": "lines",
         "name": "Weekly_Sales",
         "orientation": "v",
         "showlegend": true,
         "type": "scatter",
         "x": [
          "2010-02-05",
          "2010-02-12",
          "2010-02-19",
          "2010-02-26",
          "2010-03-05",
          "2010-03-12",
          "2010-03-19",
          "2010-03-26",
          "2010-04-02",
          "2010-04-09",
          "2010-04-16",
          "2010-04-23",
          "2010-04-30",
          "2010-05-07",
          "2010-05-14",
          "2010-05-21",
          "2010-05-28",
          "2010-06-04",
          "2010-06-11",
          "2010-06-18",
          "2010-06-25",
          "2010-07-02",
          "2010-07-09",
          "2010-07-16",
          "2010-07-23",
          "2010-07-30",
          "2010-08-06",
          "2010-08-13",
          "2010-08-20",
          "2010-08-27",
          "2010-09-03",
          "2010-09-10",
          "2010-09-17",
          "2010-09-24",
          "2010-10-01",
          "2010-10-08",
          "2010-10-15",
          "2010-10-22",
          "2010-10-29",
          "2010-11-05",
          "2010-11-12",
          "2010-11-19",
          "2010-11-26",
          "2010-12-03",
          "2010-12-10",
          "2010-12-17",
          "2010-12-24",
          "2010-12-31",
          "2011-01-07",
          "2011-01-14",
          "2011-01-21",
          "2011-01-28",
          "2011-02-04",
          "2011-02-11",
          "2011-02-18",
          "2011-02-25",
          "2011-03-04",
          "2011-03-11",
          "2011-03-18",
          "2011-03-25",
          "2011-04-01",
          "2011-04-08",
          "2011-04-15",
          "2011-04-22",
          "2011-04-29",
          "2011-05-06",
          "2011-05-13",
          "2011-05-20",
          "2011-05-27",
          "2011-06-03",
          "2011-06-10",
          "2011-06-17",
          "2011-06-24",
          "2011-07-01",
          "2011-07-08",
          "2011-07-15",
          "2011-07-22",
          "2011-07-29",
          "2011-08-05",
          "2011-08-12",
          "2011-08-19",
          "2011-08-26",
          "2011-09-02",
          "2011-09-09",
          "2011-09-16",
          "2011-09-23",
          "2011-09-30",
          "2011-10-07",
          "2011-10-14",
          "2011-10-21",
          "2011-10-28",
          "2011-11-04",
          "2011-11-11",
          "2011-11-18",
          "2011-11-25",
          "2011-12-02",
          "2011-12-09",
          "2011-12-16",
          "2011-12-23",
          "2011-12-30",
          "2012-01-06",
          "2012-01-13",
          "2012-01-20",
          "2012-01-27",
          "2012-02-03",
          "2012-02-10",
          "2012-02-17",
          "2012-02-24",
          "2012-03-02",
          "2012-03-09",
          "2012-03-16",
          "2012-03-23",
          "2012-03-30",
          "2012-04-06",
          "2012-04-13",
          "2012-04-20",
          "2012-04-27",
          "2012-05-04",
          "2012-05-11",
          "2012-05-18",
          "2012-05-25",
          "2012-06-01",
          "2012-06-08",
          "2012-06-15",
          "2012-06-22",
          "2012-06-29",
          "2012-07-06",
          "2012-07-13",
          "2012-07-20",
          "2012-07-27",
          "2012-08-03",
          "2012-08-10",
          "2012-08-17",
          "2012-08-24",
          "2012-08-31",
          "2012-09-07",
          "2012-09-14",
          "2012-09-21",
          "2012-09-28",
          "2012-10-05",
          "2012-10-12",
          "2012-10-19",
          "2012-10-26",
          "2012-11-02",
          "2012-11-09",
          "2012-11-16",
          "2012-11-23",
          "2012-11-30",
          "2012-12-07",
          "2012-12-14",
          "2012-12-21",
          "2012-12-28",
          "2013-01-04",
          "2013-01-11",
          "2013-01-18",
          "2013-01-25",
          "2013-02-01",
          "2013-02-08",
          "2013-02-15",
          "2013-02-22",
          "2013-03-01",
          "2013-03-08",
          "2013-03-15",
          "2013-03-22",
          "2013-03-29",
          "2013-04-05",
          "2013-04-12",
          "2013-04-19",
          "2013-04-26",
          "2013-05-03",
          "2013-05-10",
          "2013-05-17",
          "2013-05-24",
          "2013-05-31",
          "2013-06-07",
          "2013-06-14",
          "2013-06-21",
          "2013-06-28",
          "2013-07-05",
          "2013-07-12",
          "2013-07-19",
          "2013-07-26"
         ],
         "xaxis": "x",
         "y": [
          24924.5,
          46039.49,
          41595.55,
          19403.54,
          21827.9,
          21043.39,
          22136.64,
          26229.21,
          57258.43,
          42960.91,
          17596.96,
          16145.35,
          16555.11,
          17413.94,
          18926.74,
          14773.04,
          15580.43,
          17558.09,
          16637.62,
          16216.27,
          16328.72,
          16333.14,
          17688.76,
          17150.84,
          15360.45,
          15381.82,
          17508.41,
          15536.4,
          15740.13,
          15793.87,
          16241.78,
          18194.74,
          19354.23,
          18122.52,
          20094.19,
          23388.03,
          26978.34,
          25543.04,
          38640.93,
          34238.88,
          19549.39,
          19552.84,
          18820.29,
          22517.56,
          31497.65,
          44912.86,
          55931.23,
          19124.58,
          15984.24,
          17359.7,
          17341.47,
          18461.18,
          21665.76,
          37887.17,
          46845.87,
          19363.83,
          20327.61,
          21280.4,
          20334.23,
          20881.1,
          20398.09,
          23873.79,
          28762.37,
          50510.31,
          41512.39,
          20138.19,
          17235.15,
          15136.78,
          15741.6,
          16434.15,
          15883.52,
          14978.09,
          15682.81,
          15363.5,
          16148.87,
          15654.85,
          15766.6,
          15922.41,
          15295.55,
          14539.79,
          14689.24,
          14537.37,
          15277.27,
          17746.68,
          18535.48,
          17859.3,
          18337.68,
          20797.58,
          23077.55,
          23351.8,
          31579.9,
          39886.06,
          18689.54,
          19050.66,
          20911.25,
          25293.49,
          33305.92,
          45773.03,
          46788.75,
          23350.88,
          16567.69,
          16894.4,
          18365.1,
          18378.16,
          23510.49,
          36988.49,
          54060.1,
          20124.22,
          20113.03,
          21140.07,
          22366.88,
          22107.7,
          28952.86,
          57592.12,
          34684.21,
          16976.19,
          16347.6,
          17147.44,
          18164.2,
          18517.79,
          16963.55,
          16065.49,
          17666,
          17558.82,
          16633.41,
          15722.82,
          17823.37,
          16566.18,
          16348.06,
          15731.18,
          16628.31,
          16119.92,
          17330.7,
          16286.4,
          16680.24,
          18322.37,
          19616.22,
          19251.5,
          18947.81,
          21904.47,
          22764.01,
          24185.27,
          27390.81,
          null,
          null,
          null,
          null,
          null,
          null,
          null,
          null,
          null,
          null,
          null,
          null,
          null,
          null,
          null,
          null,
          null,
          null,
          null,
          null,
          null,
          null,
          null,
          null,
          null,
          null,
          null,
          null,
          null,
          null,
          null,
          null,
          null,
          null,
          null,
          null,
          null,
          null,
          null
         ],
         "yaxis": "y"
        },
        {
         "hovertemplate": "variable=forecast<br>Date=%{x|%B %d, %Y}<br>value=%{y}<extra></extra>",
         "legendgroup": "forecast",
         "line": {
          "color": "#EF553B",
          "dash": "solid"
         },
         "marker": {
          "symbol": "circle"
         },
         "mode": "lines",
         "name": "forecast",
         "orientation": "v",
         "showlegend": true,
         "type": "scatter",
         "x": [
          "2010-02-05",
          "2010-02-12",
          "2010-02-19",
          "2010-02-26",
          "2010-03-05",
          "2010-03-12",
          "2010-03-19",
          "2010-03-26",
          "2010-04-02",
          "2010-04-09",
          "2010-04-16",
          "2010-04-23",
          "2010-04-30",
          "2010-05-07",
          "2010-05-14",
          "2010-05-21",
          "2010-05-28",
          "2010-06-04",
          "2010-06-11",
          "2010-06-18",
          "2010-06-25",
          "2010-07-02",
          "2010-07-09",
          "2010-07-16",
          "2010-07-23",
          "2010-07-30",
          "2010-08-06",
          "2010-08-13",
          "2010-08-20",
          "2010-08-27",
          "2010-09-03",
          "2010-09-10",
          "2010-09-17",
          "2010-09-24",
          "2010-10-01",
          "2010-10-08",
          "2010-10-15",
          "2010-10-22",
          "2010-10-29",
          "2010-11-05",
          "2010-11-12",
          "2010-11-19",
          "2010-11-26",
          "2010-12-03",
          "2010-12-10",
          "2010-12-17",
          "2010-12-24",
          "2010-12-31",
          "2011-01-07",
          "2011-01-14",
          "2011-01-21",
          "2011-01-28",
          "2011-02-04",
          "2011-02-11",
          "2011-02-18",
          "2011-02-25",
          "2011-03-04",
          "2011-03-11",
          "2011-03-18",
          "2011-03-25",
          "2011-04-01",
          "2011-04-08",
          "2011-04-15",
          "2011-04-22",
          "2011-04-29",
          "2011-05-06",
          "2011-05-13",
          "2011-05-20",
          "2011-05-27",
          "2011-06-03",
          "2011-06-10",
          "2011-06-17",
          "2011-06-24",
          "2011-07-01",
          "2011-07-08",
          "2011-07-15",
          "2011-07-22",
          "2011-07-29",
          "2011-08-05",
          "2011-08-12",
          "2011-08-19",
          "2011-08-26",
          "2011-09-02",
          "2011-09-09",
          "2011-09-16",
          "2011-09-23",
          "2011-09-30",
          "2011-10-07",
          "2011-10-14",
          "2011-10-21",
          "2011-10-28",
          "2011-11-04",
          "2011-11-11",
          "2011-11-18",
          "2011-11-25",
          "2011-12-02",
          "2011-12-09",
          "2011-12-16",
          "2011-12-23",
          "2011-12-30",
          "2012-01-06",
          "2012-01-13",
          "2012-01-20",
          "2012-01-27",
          "2012-02-03",
          "2012-02-10",
          "2012-02-17",
          "2012-02-24",
          "2012-03-02",
          "2012-03-09",
          "2012-03-16",
          "2012-03-23",
          "2012-03-30",
          "2012-04-06",
          "2012-04-13",
          "2012-04-20",
          "2012-04-27",
          "2012-05-04",
          "2012-05-11",
          "2012-05-18",
          "2012-05-25",
          "2012-06-01",
          "2012-06-08",
          "2012-06-15",
          "2012-06-22",
          "2012-06-29",
          "2012-07-06",
          "2012-07-13",
          "2012-07-20",
          "2012-07-27",
          "2012-08-03",
          "2012-08-10",
          "2012-08-17",
          "2012-08-24",
          "2012-08-31",
          "2012-09-07",
          "2012-09-14",
          "2012-09-21",
          "2012-09-28",
          "2012-10-05",
          "2012-10-12",
          "2012-10-19",
          "2012-10-26",
          "2012-11-02",
          "2012-11-09",
          "2012-11-16",
          "2012-11-23",
          "2012-11-30",
          "2012-12-07",
          "2012-12-14",
          "2012-12-21",
          "2012-12-28",
          "2013-01-04",
          "2013-01-11",
          "2013-01-18",
          "2013-01-25",
          "2013-02-01",
          "2013-02-08",
          "2013-02-15",
          "2013-02-22",
          "2013-03-01",
          "2013-03-08",
          "2013-03-15",
          "2013-03-22",
          "2013-03-29",
          "2013-04-05",
          "2013-04-12",
          "2013-04-19",
          "2013-04-26",
          "2013-05-03",
          "2013-05-10",
          "2013-05-17",
          "2013-05-24",
          "2013-05-31",
          "2013-06-07",
          "2013-06-14",
          "2013-06-21",
          "2013-06-28",
          "2013-07-05",
          "2013-07-12",
          "2013-07-19",
          "2013-07-26"
         ],
         "xaxis": "x",
         "y": [
          null,
          null,
          null,
          null,
          null,
          null,
          null,
          null,
          null,
          null,
          null,
          null,
          null,
          null,
          null,
          null,
          null,
          null,
          null,
          null,
          null,
          null,
          null,
          null,
          null,
          null,
          null,
          null,
          null,
          null,
          null,
          null,
          null,
          null,
          null,
          null,
          null,
          null,
          null,
          null,
          null,
          null,
          null,
          null,
          null,
          null,
          null,
          null,
          null,
          null,
          null,
          null,
          null,
          null,
          null,
          null,
          null,
          null,
          null,
          null,
          null,
          null,
          null,
          null,
          null,
          null,
          null,
          null,
          null,
          null,
          null,
          null,
          null,
          null,
          null,
          null,
          null,
          null,
          null,
          null,
          null,
          null,
          null,
          null,
          null,
          null,
          null,
          null,
          null,
          null,
          null,
          null,
          null,
          null,
          null,
          null,
          null,
          null,
          null,
          null,
          null,
          null,
          null,
          null,
          null,
          null,
          null,
          null,
          null,
          null,
          null,
          null,
          null,
          null,
          null,
          null,
          null,
          null,
          null,
          null,
          null,
          null,
          null,
          null,
          null,
          null,
          null,
          null,
          null,
          null,
          null,
          null,
          null,
          null,
          null,
          null,
          null,
          null,
          null,
          null,
          null,
          null,
          null,
          26745.669343400285,
          24502.29971504634,
          24875.522973443563,
          31171.43196286341,
          25667.02727003561,
          33846.40108814376,
          37407.251882298486,
          53220.381810029976,
          23579.69459612104,
          22357.73061369957,
          19248.407521400808,
          20861.83888572329,
          19525.873322845026,
          19835.43470039996,
          24582.46284745183,
          25027.32247818086,
          22106.684409330705,
          25456.321760272403,
          22944.068072924747,
          22687.17649767873,
          24595.308320938395,
          23359.05159378875,
          26462.33609453163,
          22657.30870085591,
          22532.537851272416,
          22242.825367362035,
          23603.30521485067,
          23608.103662053894,
          21680.35727348964,
          25560.45564051222,
          27887.16302167389,
          24296.07279565622,
          25024.83820770593,
          26622.618582335715,
          22955.60614654022,
          22665.36282978533,
          20888.002497050915,
          23211.50321313229,
          20823.802821591416
         ],
         "yaxis": "y"
        }
       ],
       "layout": {
        "height": 500,
        "legend": {
         "title": {
          "text": "variable"
         },
         "tracegroupgap": 0,
         "x": 0.01,
         "xanchor": "left",
         "y": 0.99,
         "yanchor": "top"
        },
        "margin": {
         "t": 60
        },
        "template": {
         "data": {
          "bar": [
           {
            "error_x": {
             "color": "#2a3f5f"
            },
            "error_y": {
             "color": "#2a3f5f"
            },
            "marker": {
             "line": {
              "color": "#E5ECF6",
              "width": 0.5
             },
             "pattern": {
              "fillmode": "overlay",
              "size": 10,
              "solidity": 0.2
             }
            },
            "type": "bar"
           }
          ],
          "barpolar": [
           {
            "marker": {
             "line": {
              "color": "#E5ECF6",
              "width": 0.5
             },
             "pattern": {
              "fillmode": "overlay",
              "size": 10,
              "solidity": 0.2
             }
            },
            "type": "barpolar"
           }
          ],
          "carpet": [
           {
            "aaxis": {
             "endlinecolor": "#2a3f5f",
             "gridcolor": "white",
             "linecolor": "white",
             "minorgridcolor": "white",
             "startlinecolor": "#2a3f5f"
            },
            "baxis": {
             "endlinecolor": "#2a3f5f",
             "gridcolor": "white",
             "linecolor": "white",
             "minorgridcolor": "white",
             "startlinecolor": "#2a3f5f"
            },
            "type": "carpet"
           }
          ],
          "choropleth": [
           {
            "colorbar": {
             "outlinewidth": 0,
             "ticks": ""
            },
            "type": "choropleth"
           }
          ],
          "contour": [
           {
            "colorbar": {
             "outlinewidth": 0,
             "ticks": ""
            },
            "colorscale": [
             [
              0,
              "#0d0887"
             ],
             [
              0.1111111111111111,
              "#46039f"
             ],
             [
              0.2222222222222222,
              "#7201a8"
             ],
             [
              0.3333333333333333,
              "#9c179e"
             ],
             [
              0.4444444444444444,
              "#bd3786"
             ],
             [
              0.5555555555555556,
              "#d8576b"
             ],
             [
              0.6666666666666666,
              "#ed7953"
             ],
             [
              0.7777777777777778,
              "#fb9f3a"
             ],
             [
              0.8888888888888888,
              "#fdca26"
             ],
             [
              1,
              "#f0f921"
             ]
            ],
            "type": "contour"
           }
          ],
          "contourcarpet": [
           {
            "colorbar": {
             "outlinewidth": 0,
             "ticks": ""
            },
            "type": "contourcarpet"
           }
          ],
          "heatmap": [
           {
            "colorbar": {
             "outlinewidth": 0,
             "ticks": ""
            },
            "colorscale": [
             [
              0,
              "#0d0887"
             ],
             [
              0.1111111111111111,
              "#46039f"
             ],
             [
              0.2222222222222222,
              "#7201a8"
             ],
             [
              0.3333333333333333,
              "#9c179e"
             ],
             [
              0.4444444444444444,
              "#bd3786"
             ],
             [
              0.5555555555555556,
              "#d8576b"
             ],
             [
              0.6666666666666666,
              "#ed7953"
             ],
             [
              0.7777777777777778,
              "#fb9f3a"
             ],
             [
              0.8888888888888888,
              "#fdca26"
             ],
             [
              1,
              "#f0f921"
             ]
            ],
            "type": "heatmap"
           }
          ],
          "heatmapgl": [
           {
            "colorbar": {
             "outlinewidth": 0,
             "ticks": ""
            },
            "colorscale": [
             [
              0,
              "#0d0887"
             ],
             [
              0.1111111111111111,
              "#46039f"
             ],
             [
              0.2222222222222222,
              "#7201a8"
             ],
             [
              0.3333333333333333,
              "#9c179e"
             ],
             [
              0.4444444444444444,
              "#bd3786"
             ],
             [
              0.5555555555555556,
              "#d8576b"
             ],
             [
              0.6666666666666666,
              "#ed7953"
             ],
             [
              0.7777777777777778,
              "#fb9f3a"
             ],
             [
              0.8888888888888888,
              "#fdca26"
             ],
             [
              1,
              "#f0f921"
             ]
            ],
            "type": "heatmapgl"
           }
          ],
          "histogram": [
           {
            "marker": {
             "pattern": {
              "fillmode": "overlay",
              "size": 10,
              "solidity": 0.2
             }
            },
            "type": "histogram"
           }
          ],
          "histogram2d": [
           {
            "colorbar": {
             "outlinewidth": 0,
             "ticks": ""
            },
            "colorscale": [
             [
              0,
              "#0d0887"
             ],
             [
              0.1111111111111111,
              "#46039f"
             ],
             [
              0.2222222222222222,
              "#7201a8"
             ],
             [
              0.3333333333333333,
              "#9c179e"
             ],
             [
              0.4444444444444444,
              "#bd3786"
             ],
             [
              0.5555555555555556,
              "#d8576b"
             ],
             [
              0.6666666666666666,
              "#ed7953"
             ],
             [
              0.7777777777777778,
              "#fb9f3a"
             ],
             [
              0.8888888888888888,
              "#fdca26"
             ],
             [
              1,
              "#f0f921"
             ]
            ],
            "type": "histogram2d"
           }
          ],
          "histogram2dcontour": [
           {
            "colorbar": {
             "outlinewidth": 0,
             "ticks": ""
            },
            "colorscale": [
             [
              0,
              "#0d0887"
             ],
             [
              0.1111111111111111,
              "#46039f"
             ],
             [
              0.2222222222222222,
              "#7201a8"
             ],
             [
              0.3333333333333333,
              "#9c179e"
             ],
             [
              0.4444444444444444,
              "#bd3786"
             ],
             [
              0.5555555555555556,
              "#d8576b"
             ],
             [
              0.6666666666666666,
              "#ed7953"
             ],
             [
              0.7777777777777778,
              "#fb9f3a"
             ],
             [
              0.8888888888888888,
              "#fdca26"
             ],
             [
              1,
              "#f0f921"
             ]
            ],
            "type": "histogram2dcontour"
           }
          ],
          "mesh3d": [
           {
            "colorbar": {
             "outlinewidth": 0,
             "ticks": ""
            },
            "type": "mesh3d"
           }
          ],
          "parcoords": [
           {
            "line": {
             "colorbar": {
              "outlinewidth": 0,
              "ticks": ""
             }
            },
            "type": "parcoords"
           }
          ],
          "pie": [
           {
            "automargin": true,
            "type": "pie"
           }
          ],
          "scatter": [
           {
            "fillpattern": {
             "fillmode": "overlay",
             "size": 10,
             "solidity": 0.2
            },
            "type": "scatter"
           }
          ],
          "scatter3d": [
           {
            "line": {
             "colorbar": {
              "outlinewidth": 0,
              "ticks": ""
             }
            },
            "marker": {
             "colorbar": {
              "outlinewidth": 0,
              "ticks": ""
             }
            },
            "type": "scatter3d"
           }
          ],
          "scattercarpet": [
           {
            "marker": {
             "colorbar": {
              "outlinewidth": 0,
              "ticks": ""
             }
            },
            "type": "scattercarpet"
           }
          ],
          "scattergeo": [
           {
            "marker": {
             "colorbar": {
              "outlinewidth": 0,
              "ticks": ""
             }
            },
            "type": "scattergeo"
           }
          ],
          "scattergl": [
           {
            "marker": {
             "colorbar": {
              "outlinewidth": 0,
              "ticks": ""
             }
            },
            "type": "scattergl"
           }
          ],
          "scattermapbox": [
           {
            "marker": {
             "colorbar": {
              "outlinewidth": 0,
              "ticks": ""
             }
            },
            "type": "scattermapbox"
           }
          ],
          "scatterpolar": [
           {
            "marker": {
             "colorbar": {
              "outlinewidth": 0,
              "ticks": ""
             }
            },
            "type": "scatterpolar"
           }
          ],
          "scatterpolargl": [
           {
            "marker": {
             "colorbar": {
              "outlinewidth": 0,
              "ticks": ""
             }
            },
            "type": "scatterpolargl"
           }
          ],
          "scatterternary": [
           {
            "marker": {
             "colorbar": {
              "outlinewidth": 0,
              "ticks": ""
             }
            },
            "type": "scatterternary"
           }
          ],
          "surface": [
           {
            "colorbar": {
             "outlinewidth": 0,
             "ticks": ""
            },
            "colorscale": [
             [
              0,
              "#0d0887"
             ],
             [
              0.1111111111111111,
              "#46039f"
             ],
             [
              0.2222222222222222,
              "#7201a8"
             ],
             [
              0.3333333333333333,
              "#9c179e"
             ],
             [
              0.4444444444444444,
              "#bd3786"
             ],
             [
              0.5555555555555556,
              "#d8576b"
             ],
             [
              0.6666666666666666,
              "#ed7953"
             ],
             [
              0.7777777777777778,
              "#fb9f3a"
             ],
             [
              0.8888888888888888,
              "#fdca26"
             ],
             [
              1,
              "#f0f921"
             ]
            ],
            "type": "surface"
           }
          ],
          "table": [
           {
            "cells": {
             "fill": {
              "color": "#EBF0F8"
             },
             "line": {
              "color": "white"
             }
            },
            "header": {
             "fill": {
              "color": "#C8D4E3"
             },
             "line": {
              "color": "white"
             }
            },
            "type": "table"
           }
          ]
         },
         "layout": {
          "annotationdefaults": {
           "arrowcolor": "#2a3f5f",
           "arrowhead": 0,
           "arrowwidth": 1
          },
          "autotypenumbers": "strict",
          "coloraxis": {
           "colorbar": {
            "outlinewidth": 0,
            "ticks": ""
           }
          },
          "colorscale": {
           "diverging": [
            [
             0,
             "#8e0152"
            ],
            [
             0.1,
             "#c51b7d"
            ],
            [
             0.2,
             "#de77ae"
            ],
            [
             0.3,
             "#f1b6da"
            ],
            [
             0.4,
             "#fde0ef"
            ],
            [
             0.5,
             "#f7f7f7"
            ],
            [
             0.6,
             "#e6f5d0"
            ],
            [
             0.7,
             "#b8e186"
            ],
            [
             0.8,
             "#7fbc41"
            ],
            [
             0.9,
             "#4d9221"
            ],
            [
             1,
             "#276419"
            ]
           ],
           "sequential": [
            [
             0,
             "#0d0887"
            ],
            [
             0.1111111111111111,
             "#46039f"
            ],
            [
             0.2222222222222222,
             "#7201a8"
            ],
            [
             0.3333333333333333,
             "#9c179e"
            ],
            [
             0.4444444444444444,
             "#bd3786"
            ],
            [
             0.5555555555555556,
             "#d8576b"
            ],
            [
             0.6666666666666666,
             "#ed7953"
            ],
            [
             0.7777777777777778,
             "#fb9f3a"
            ],
            [
             0.8888888888888888,
             "#fdca26"
            ],
            [
             1,
             "#f0f921"
            ]
           ],
           "sequentialminus": [
            [
             0,
             "#0d0887"
            ],
            [
             0.1111111111111111,
             "#46039f"
            ],
            [
             0.2222222222222222,
             "#7201a8"
            ],
            [
             0.3333333333333333,
             "#9c179e"
            ],
            [
             0.4444444444444444,
             "#bd3786"
            ],
            [
             0.5555555555555556,
             "#d8576b"
            ],
            [
             0.6666666666666666,
             "#ed7953"
            ],
            [
             0.7777777777777778,
             "#fb9f3a"
            ],
            [
             0.8888888888888888,
             "#fdca26"
            ],
            [
             1,
             "#f0f921"
            ]
           ]
          },
          "colorway": [
           "#636efa",
           "#EF553B",
           "#00cc96",
           "#ab63fa",
           "#FFA15A",
           "#19d3f3",
           "#FF6692",
           "#B6E880",
           "#FF97FF",
           "#FECB52"
          ],
          "font": {
           "color": "#2a3f5f"
          },
          "geo": {
           "bgcolor": "white",
           "lakecolor": "white",
           "landcolor": "#E5ECF6",
           "showlakes": true,
           "showland": true,
           "subunitcolor": "white"
          },
          "hoverlabel": {
           "align": "left"
          },
          "hovermode": "closest",
          "mapbox": {
           "style": "light"
          },
          "paper_bgcolor": "white",
          "plot_bgcolor": "#E5ECF6",
          "polar": {
           "angularaxis": {
            "gridcolor": "white",
            "linecolor": "white",
            "ticks": ""
           },
           "bgcolor": "#E5ECF6",
           "radialaxis": {
            "gridcolor": "white",
            "linecolor": "white",
            "ticks": ""
           }
          },
          "scene": {
           "xaxis": {
            "backgroundcolor": "#E5ECF6",
            "gridcolor": "white",
            "gridwidth": 2,
            "linecolor": "white",
            "showbackground": true,
            "ticks": "",
            "zerolinecolor": "white"
           },
           "yaxis": {
            "backgroundcolor": "#E5ECF6",
            "gridcolor": "white",
            "gridwidth": 2,
            "linecolor": "white",
            "showbackground": true,
            "ticks": "",
            "zerolinecolor": "white"
           },
           "zaxis": {
            "backgroundcolor": "#E5ECF6",
            "gridcolor": "white",
            "gridwidth": 2,
            "linecolor": "white",
            "showbackground": true,
            "ticks": "",
            "zerolinecolor": "white"
           }
          },
          "shapedefaults": {
           "line": {
            "color": "#2a3f5f"
           }
          },
          "ternary": {
           "aaxis": {
            "gridcolor": "white",
            "linecolor": "white",
            "ticks": ""
           },
           "baxis": {
            "gridcolor": "white",
            "linecolor": "white",
            "ticks": ""
           },
           "bgcolor": "#E5ECF6",
           "caxis": {
            "gridcolor": "white",
            "linecolor": "white",
            "ticks": ""
           }
          },
          "title": {
           "x": 0.05
          },
          "xaxis": {
           "automargin": true,
           "gridcolor": "white",
           "linecolor": "white",
           "ticks": "",
           "title": {
            "standoff": 15
           },
           "zerolinecolor": "white",
           "zerolinewidth": 2
          },
          "yaxis": {
           "automargin": true,
           "gridcolor": "white",
           "linecolor": "white",
           "ticks": "",
           "title": {
            "standoff": 15
           },
           "zerolinecolor": "white",
           "zerolinewidth": 2
          }
         }
        },
        "width": 1350,
        "xaxis": {
         "anchor": "y",
         "domain": [
          0,
          1
         ],
         "title": {
          "text": "Delivery Week"
         }
        },
        "yaxis": {
         "anchor": "x",
         "domain": [
          0,
          1
         ],
         "title": {
          "text": "Weekly Sales"
         }
        }
       }
      }
     },
     "metadata": {},
     "output_type": "display_data"
    }
   ],
   "source": [
    "fig = px.line(\n",
    "    pred_df,\n",
    "    x=pred_df[\"Date\"],\n",
    "    y=['Weekly_Sales', 'forecast'],\n",
    "    hover_data={\"Date\": \"|%B %d, %Y\"},\n",
    "    width=1350,\n",
    "    height=500,\n",
    ")\n",
    "\n",
    "fig.update_layout(\n",
    "    legend=dict(yanchor=\"top\", y=0.99, xanchor=\"left\", x=0.01),\n",
    "    yaxis_title=\"Weekly Sales\",\n",
    "    xaxis_title=\"Delivery Week\",\n",
    ")\n",
    "\n",
    "fig.show()"
   ]
  },
  {
   "cell_type": "code",
   "execution_count": null,
   "metadata": {},
   "outputs": [],
   "source": []
  }
 ],
 "metadata": {
  "kernelspec": {
   "display_name": "tide",
   "language": "python",
   "name": "python3"
  },
  "language_info": {
   "codemirror_mode": {
    "name": "ipython",
    "version": 3
   },
   "file_extension": ".py",
   "mimetype": "text/x-python",
   "name": "python",
   "nbconvert_exporter": "python",
   "pygments_lexer": "ipython3",
   "version": "3.10.13"
  }
 },
 "nbformat": 4,
 "nbformat_minor": 2
}
